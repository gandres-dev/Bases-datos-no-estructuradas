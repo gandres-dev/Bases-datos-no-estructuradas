{
 "cells": [
  {
   "cell_type": "code",
   "metadata": {
    "cell_id": "695ea99a906145e3b569c421a492ae3e",
    "tags": [],
    "deepnote_cell_type": "code",
    "deepnote_cell_height": 210
   },
   "source": "# librerías\nimport pprint\nimport pymongo\nimport numpy as np\nimport pandas as pd\nfrom bson.son import SON\nfrom pymongo import  GEO2D\nimport plotly.express as px\nimport plotly.graph_objects as go",
   "execution_count": 1,
   "outputs": []
  },
  {
   "cell_type": "markdown",
   "source": "# Bases de datos limpias",
   "metadata": {
    "cell_id": "00012-0f442d4b-564c-46c2-9f97-5dbfae189f4d",
    "deepnote_cell_type": "markdown",
    "deepnote_cell_height": 82
   }
  },
  {
   "cell_type": "code",
   "metadata": {
    "cell_id": "00013-69086b5c-4ac3-47ec-b303-1e7e06babe67",
    "deepnote_cell_type": "code",
    "deepnote_cell_height": 292,
    "deepnote_output_heights": [
     177
    ]
   },
   "source": "df_estacion=pd.read_csv('./Datos/datos_limpios/datos_estacion.csv').drop(columns='Unnamed: 0').rename(columns={'start station id':'id_estacion','start station name':'nombre_estacion','start station latitude':'lat','start station longitude':'long'})\ndf_estacion.head()",
   "execution_count": 50,
   "outputs": [
    {
     "data": {
      "text/html": "<div>\n<style scoped>\n    .dataframe tbody tr th:only-of-type {\n        vertical-align: middle;\n    }\n\n    .dataframe tbody tr th {\n        vertical-align: top;\n    }\n\n    .dataframe thead th {\n        text-align: right;\n    }\n</style>\n<table border=\"1\" class=\"dataframe\">\n  <thead>\n    <tr style=\"text-align: right;\">\n      <th></th>\n      <th>id_estacion</th>\n      <th>nombre_estacion</th>\n      <th>lat</th>\n      <th>long</th>\n    </tr>\n  </thead>\n  <tbody>\n    <tr>\n      <th>0</th>\n      <td>294</td>\n      <td>Washington Square E</td>\n      <td>40.730494</td>\n      <td>-73.995721</td>\n    </tr>\n    <tr>\n      <th>1</th>\n      <td>285</td>\n      <td>Broadway &amp; E 14 St</td>\n      <td>40.734546</td>\n      <td>-73.990741</td>\n    </tr>\n    <tr>\n      <th>2</th>\n      <td>247</td>\n      <td>Perry St &amp; Bleecker St</td>\n      <td>40.735354</td>\n      <td>-74.004831</td>\n    </tr>\n    <tr>\n      <th>3</th>\n      <td>357</td>\n      <td>E 11 St &amp; Broadway</td>\n      <td>40.732618</td>\n      <td>-73.991580</td>\n    </tr>\n    <tr>\n      <th>4</th>\n      <td>401</td>\n      <td>Allen St &amp; Rivington St</td>\n      <td>40.720196</td>\n      <td>-73.989978</td>\n    </tr>\n  </tbody>\n</table>\n</div>",
      "text/plain": "   id_estacion          nombre_estacion        lat       long\n0          294      Washington Square E  40.730494 -73.995721\n1          285       Broadway & E 14 St  40.734546 -73.990741\n2          247   Perry St & Bleecker St  40.735354 -74.004831\n3          357       E 11 St & Broadway  40.732618 -73.991580\n4          401  Allen St & Rivington St  40.720196 -73.989978"
     },
     "execution_count": 130,
     "metadata": {},
     "output_type": "execute_result"
    }
   ]
  },
  {
   "cell_type": "markdown",
   "source": "",
   "metadata": {
    "cell_id": "0f3935e1b11b4d9fba20c87d56021e85",
    "tags": [],
    "deepnote_cell_type": "markdown",
    "deepnote_cell_height": 46
   }
  },
  {
   "cell_type": "code",
   "metadata": {
    "cell_id": "00014-325901f1-a157-4f25-982d-c9b9a497c6e4",
    "deepnote_cell_type": "code",
    "deepnote_cell_height": 569.1875,
    "deepnote_output_heights": [
     382.1875
    ]
   },
   "source": "df_viajes = pd.read_csv('./Datos/datos_limpios/datos_viajes.csv', index_col=0)\ndf_viajes = df_viajes.rename(columns={'start station id':'start_id',\n                                      'end station id':'end_id',\n                                      'tripduration':'duracion_prom'})\ndf_viajes = df_viajes.drop(df_viajes[df_viajes['start_id'] == df_viajes['end_id']].index)\ndf_viajes.head()",
   "execution_count": 51,
   "outputs": [
    {
     "data": {
      "text/html": "<div>\n<style scoped>\n    .dataframe tbody tr th:only-of-type {\n        vertical-align: middle;\n    }\n\n    .dataframe tbody tr th {\n        vertical-align: top;\n    }\n\n    .dataframe thead th {\n        text-align: right;\n    }\n</style>\n<table border=\"1\" class=\"dataframe\">\n  <thead>\n    <tr style=\"text-align: right;\">\n      <th></th>\n      <th>start_id</th>\n      <th>end_id</th>\n      <th>duracion_prom</th>\n    </tr>\n  </thead>\n  <tbody>\n    <tr>\n      <th>0</th>\n      <td>72</td>\n      <td>72</td>\n      <td>1428.977867</td>\n    </tr>\n    <tr>\n      <th>1</th>\n      <td>72</td>\n      <td>79</td>\n      <td>1117.452555</td>\n    </tr>\n    <tr>\n      <th>2</th>\n      <td>72</td>\n      <td>82</td>\n      <td>1516.500000</td>\n    </tr>\n    <tr>\n      <th>3</th>\n      <td>72</td>\n      <td>83</td>\n      <td>923.157895</td>\n    </tr>\n    <tr>\n      <th>4</th>\n      <td>72</td>\n      <td>116</td>\n      <td>824.120000</td>\n    </tr>\n    <tr>\n      <th>...</th>\n      <td>...</td>\n      <td>...</td>\n      <td>...</td>\n    </tr>\n    <tr>\n      <th>95625</th>\n      <td>3002</td>\n      <td>2017</td>\n      <td>1394.000000</td>\n    </tr>\n    <tr>\n      <th>95626</th>\n      <td>3002</td>\n      <td>2021</td>\n      <td>797.652174</td>\n    </tr>\n    <tr>\n      <th>95627</th>\n      <td>3002</td>\n      <td>2022</td>\n      <td>2590.000000</td>\n    </tr>\n    <tr>\n      <th>95628</th>\n      <td>3002</td>\n      <td>2023</td>\n      <td>3319.000000</td>\n    </tr>\n    <tr>\n      <th>95629</th>\n      <td>3002</td>\n      <td>3002</td>\n      <td>1077.322943</td>\n    </tr>\n  </tbody>\n</table>\n<p>95630 rows × 3 columns</p>\n</div>",
      "text/plain": "       start_id  end_id  duracion_prom\n0            72      72    1428.977867\n1            72      79    1117.452555\n2            72      82    1516.500000\n3            72      83     923.157895\n4            72     116     824.120000\n...         ...     ...            ...\n95625      3002    2017    1394.000000\n95626      3002    2021     797.652174\n95627      3002    2022    2590.000000\n95628      3002    2023    3319.000000\n95629      3002    3002    1077.322943\n\n[95630 rows x 3 columns]"
     },
     "execution_count": 131,
     "metadata": {},
     "output_type": "execute_result"
    }
   ]
  },
  {
   "cell_type": "code",
   "metadata": {
    "cell_id": "00003-517fc8a3-6445-4ffa-a7d9-980f3ba58ee3",
    "deepnote_cell_type": "code",
    "deepnote_cell_height": 156
   },
   "source": "import pymongo\nimport pandas as pd\n\nmyclient=pymongo.MongoClient('mongodb://localhost:27017/')\nmydb=myclient['mydatabase1'] # database\nmycol=mydb['usuarios'] # colección",
   "execution_count": 52,
   "outputs": []
  },
  {
   "cell_type": "code",
   "metadata": {
    "cell_id": "00010-a946c402-7223-43aa-9f52-430278973a4e",
    "deepnote_cell_type": "code",
    "deepnote_cell_height": 238
   },
   "source": "# Agregar estaciones de bicicleta a la bd\n\ntry:\n  mydb.create_collection('Estaciones')\nexcept:\n  print('Ya se había creado la colección')\n\nestaciones=mydb.get_collection('Estaciones')",
   "execution_count": 53,
   "outputs": [
    {
     "name": "stdout",
     "output_type": "stream",
     "text": "Ya se había creado la colección\n"
    }
   ]
  },
  {
   "cell_type": "code",
   "metadata": {
    "cell_id": "00015-66136b1a-0a0d-478b-9d14-c8c0ddbc2ba0",
    "deepnote_cell_type": "code",
    "deepnote_cell_height": 514.1875,
    "deepnote_output_heights": [
     21.1875
    ]
   },
   "source": "mydb.drop_collection(\"Estaciones\")\nfrom pymongo import  GEO2D\n\nmydb.Estaciones.create_index([(\"loc\", GEO2D)])\n\ndicc_estaciones = []\nfor row in df_estacion.iterrows():\n    idd = int(row[1][\"id_estacion\"])\n    lat,long=row[1][\"lat\"], row[1][\"long\"]\n    nombre=row[1]['nombre_estacion']\n\n    dicc = {\n        \"loc\":[lat,long],\n                    \"estacion_id\": idd,\n                    \"estacion_nombre\":nombre\n        }\n    \n\n    dicc_estaciones.append(dicc)\n\ndicc_estaciones\nestaciones.insert_many(dicc_estaciones)\n",
   "execution_count": 54,
   "outputs": [
    {
     "data": {
      "text/plain": "<pymongo.results.InsertManyResult at 0x24aab728d88>"
     },
     "execution_count": 129,
     "metadata": {},
     "output_type": "execute_result"
    }
   ]
  },
  {
   "cell_type": "markdown",
   "source": "# Actividad 1\nUn usuario se pueda dar de alta junto con información de ubicación (coordenadas), debe usar al menos un lugar (casa por ejemplo) pero con opción de agregar más (trabajo, escuela, etc.)",
   "metadata": {
    "cell_id": "d4ef255c-becd-4369-a9ea-9abc5ce8aef9",
    "deepnote_cell_type": "markdown",
    "deepnote_cell_height": 142.796875
   }
  },
  {
   "cell_type": "code",
   "metadata": {
    "cell_id": "00001-571129c1-4806-425d-af76-d9f533f78c31",
    "deepnote_cell_type": "code",
    "deepnote_cell_height": 1776
   },
   "source": "# Clase para solucionar el problema\nfrom bson.son import SON\n\nclass Usuario(object):\n  def __init__(self,diccionario, propiedades={}):\n    '''\n    Constructor\n    El diccionario tiene que tener al menos la llave nombre, lo demás es opcional\n    '''\n    if 'nombre' not in diccionario.keys():\n      raise ValueError('El nombre es necesario')\n    self.diccionario=diccionario\n\n  def agrega_direccion(self,nombre,coordenadas,properties):\n    '''\n    nombre: nombre de la ubicación (casa, trabajo, etc)\n    coordenadas: la coordenada de la ubicación\n    propiedades: diccionario de propiedades del objeto {'lugar':'IIMAS'}\n    '''\n    geoJSON={\n      \"type\": \"Feature\",\n      \"geometry\": {\n        \"type\": \"Point\",\n        \"coordinates\": [coordenadas[0], coordenadas[1]]\n      },\n      \"properties\": properties\n    }\n\n    if not self.diccionario.get('ubicaciones',False):\n      self.diccionario['ubicaciones']={}\n\n    self.diccionario['ubicaciones'][nombre]=geoJSON\n    return self.diccionario\n  \n\n\n  def agrega_BD(self, coleccion):\n    '''\n    Método par agregar la instancia de usuario a la base de datos\n    '''\n    self.coleccion=coleccion\n    return coleccion.insert_one(self.diccionario).inserted_id\n\n\n  def busca_estacion_cercana(self,direccion='casa',dist_max=100,num_limite=5):\n    lat,long=self.diccionario['ubicaciones'][direccion]['geometry']['coordinates']\n    query = {\"loc\": SON([(\"$near\", [lat,long] ), (\"$maxDistance\", dist_max)])}\n \n   \n    return list(estaciones.find(query).limit(num_limite))\n\n  def encontrar_paseo(self,ubicacion,tiempo_limite=1000,resultados_limite=5,dist_max=100,num_limite=5):\n  \n   # Lista de num_limite de estaciones cercanas\n    lista_de_id_1=[dicc['estacion_id'] for dicc in self.busca_estacion_cercana(ubicacion,dist_max,num_limite)]\n\n    # Listas donde guardaremos las columnas de el df\n    id_intermedio=[] # El id al que se viaja en el paseo\n    id_inicial=[] # El id de la estaciona donde se comienza el viaje\n    duracion_total=[] # Duración total del paseo redondo\n\n    print(lista_de_id_1)\n    for id_1 in lista_de_id_1:\n\n      # Encontramos todos los viajes que están a menos del tiempo de distancia de las estaciones cercanas\n      primer_destino=viajes.find({'start_id':id_1,'duracion_prom':{'$lt':tiempo_limite}})\n\n      # Calculamos el tiempo y los destinos que están a menos del tiempo limite tomando en cuenta el viaje redondo\n\n      for destino in primer_destino:\n        \n        id_2=destino['end_id']\n          \n        duracion_anterior=destino['duracion_prom']\n\n        limite_actual=tiempo_limite-duracion_anterior\n        \n        segundo_destino=viajes.find_one({'start_id':id_2,'end_id':id_1,'duracion_prom':{'$lt':limite_actual}})\n\n        if segundo_destino:\n          \n          duracion_actual=segundo_destino['duracion_prom']\n\n          if id_2==id_1:\n            duracion_actual=duracion_anterior\n            \n          duracion_total.append(duracion_anterior+duracion_actual)\n          id_intermedio.append(id_2)\n          id_inicial.append(id_1)\n\n\n    df_sort=pd.DataFrame({'id_inicial':id_inicial,'id_intermedio':id_intermedio,'duracion_redondo':duracion_total}).sort_values('duracion_redondo').iloc[:resultados_limite]\n\n    return df_sort\n\n",
   "execution_count": 55,
   "outputs": []
  },
  {
   "cell_type": "markdown",
   "source": "Agregamos un usuario",
   "metadata": {
    "cell_id": "00004-3ffe5a0a-f88e-4b88-9d05-5f709ece198b",
    "deepnote_cell_type": "markdown",
    "deepnote_cell_height": 52.390625
   }
  },
  {
   "cell_type": "code",
   "metadata": {
    "cell_id": "00005-c9430e67-09d0-4287-8db6-c7f923015856",
    "deepnote_cell_type": "code",
    "deepnote_cell_height": 316.1875,
    "deepnote_output_heights": [
     21.1875
    ]
   },
   "source": "u1=Usuario({'nombre':'Fernando Avitúa'})\n\nu1.agrega_direccion('casa',[40.7192258,-73.9885016],{'lugar':'Paloma azul'})\nd=u1.agrega_direccion('trabajo',[10,5],{'lugar':'IIMAS'})\n\nu1.agrega_BD(mycol)\n\ncol=mydb.get_collection('usuarios')\ncol.find_one({'nombre':'Fernando Avitúa'})\n\n\n",
   "execution_count": 57,
   "outputs": [
    {
     "data": {
      "text/plain": "ObjectId('6272c9fdddf435c41bd141d0')"
     },
     "execution_count": 123,
     "metadata": {},
     "output_type": "execute_result"
    }
   ]
  },
  {
   "cell_type": "code",
   "metadata": {
    "cell_id": "db953edfc7904bb382efca01c9e58a03",
    "owner_user_id": "b7f90450-0770-40af-820a-2f5d5913daed",
    "tags": [],
    "deepnote_cell_type": "code",
    "deepnote_cell_height": 172.1875,
    "deepnote_output_heights": [
     21.1875
    ]
   },
   "source": "u2 = Usuario({'nombre':'Fernando Santa Rita'})\nu2.agrega_direccion('escuela',[40.689, -74],{'lugar':'Ciencias'})\nu2.agrega_direccion('casa',[40.74,-73.99],{'lugar':'Contreras'})\nu2.agrega_BD(mycol)",
   "execution_count": 9,
   "outputs": [
    {
     "data": {
      "text/plain": "ObjectId('627337d5525714cc52e137cf')"
     },
     "execution_count": 9,
     "metadata": {},
     "output_type": "execute_result"
    }
   ]
  },
  {
   "cell_type": "code",
   "metadata": {
    "cell_id": "68070c29b95b4559aa7c292c3bbc5503",
    "tags": [],
    "deepnote_cell_type": "code",
    "deepnote_cell_height": 172.1875,
    "deepnote_output_heights": [
     21.1875
    ]
   },
   "source": "u3 = Usuario({'nombre':'Guillermo Urbano'})\nu3.agrega_direccion('casa', [40.689, -74], {'lugar':'Hogar'})\nu3.agrega_direccion('escuela', [40.76, -73.97], {'lugar':'Hogar'})\nu3.agrega_BD(mycol)",
   "execution_count": 10,
   "outputs": [
    {
     "data": {
      "text/plain": "ObjectId('627337d6525714cc52e137d0')"
     },
     "execution_count": 10,
     "metadata": {},
     "output_type": "execute_result"
    }
   ]
  },
  {
   "cell_type": "markdown",
   "source": "# Actividad 2\nEl usuario debe poder buscar las estaciones de bicicleta que le queden más cerca a sus lugares.",
   "metadata": {
    "cell_id": "00008-2201a9ec-41b4-4a72-b7f5-ba6dbcdab9fb",
    "deepnote_cell_type": "markdown",
    "deepnote_cell_height": 120.390625
   }
  },
  {
   "cell_type": "code",
   "metadata": {
    "cell_id": "00006-2f0c9655-9844-4954-a7b9-c472e875c01b",
    "deepnote_cell_type": "code",
    "deepnote_cell_height": 387,
    "deepnote_output_heights": [
     290
    ]
   },
   "source": "u1.busca_estacion_cercana(direccion='casa')",
   "execution_count": 47,
   "outputs": [
    {
     "data": {
      "text/plain": "[{'_id': ObjectId('6272aa72ddf435c41bd14130'),\n  'loc': [40.72019576, -73.98997825],\n  'estacion_id': 401},\n {'_id': ObjectId('6272aa72ddf435c41bd140dd'),\n  'loc': [40.7172274, -73.98802084],\n  'estacion_id': 311},\n {'_id': ObjectId('6272aa72ddf435c41bd140de'),\n  'loc': [40.722055, -73.989111],\n  'estacion_id': 312},\n {'_id': ObjectId('6272aa72ddf435c41bd14139'),\n  'loc': [40.72066442, -73.98517977],\n  'estacion_id': 410},\n {'_id': ObjectId('6272aa72ddf435c41bd14172'),\n  'loc': [40.72110063, -73.9919254],\n  'estacion_id': 473}]"
     },
     "execution_count": 124,
     "metadata": {},
     "output_type": "execute_result"
    }
   ]
  },
  {
   "cell_type": "markdown",
   "source": "# Actividad 3\n\nTambién debe poder planear viajes, dado un tiempo que quiere viajar, el sistema debe recomendar viajes usando como salida sus estaciones mas cercanas (o estaciones específicas seleccionadas por el usuario) y los destinos que le tomen mas o menos ese tiempo.",
   "metadata": {
    "cell_id": "00016-ca47d77a-04a3-4e60-a82c-64f47b6ba009",
    "deepnote_cell_type": "markdown",
    "deepnote_cell_height": 165.1875
   }
  },
  {
   "cell_type": "markdown",
   "source": "Primero creamos la colección para la base de datos de tiempos transcurridos entre  dos estaciones, esto del Data Frame de df_viajes",
   "metadata": {
    "cell_id": "d3fcf8efb14d4992bdbe7f6ae880ad82",
    "tags": [],
    "deepnote_cell_type": "markdown",
    "deepnote_cell_height": 74.796875
   }
  },
  {
   "cell_type": "code",
   "metadata": {
    "cell_id": "daacebec9d57475b9d81e8f0ee341ec8",
    "tags": [],
    "deepnote_cell_type": "code",
    "deepnote_cell_height": 156
   },
   "source": "# Agregar estaciones de bicicleta a la bd\ntry:\n  mydb.create_collection('Tiempos')\nexcept:\n  print('Ya se había creado la colección')\ntiempos = mydb.get_collection('Tiempos')",
   "execution_count": 12,
   "outputs": []
  },
  {
   "cell_type": "code",
   "metadata": {
    "cell_id": "eb4c15aaf3e24912bf5843668d0f9319",
    "tags": [],
    "deepnote_cell_type": "code",
    "deepnote_cell_height": 388.1875,
    "deepnote_output_heights": [
     21.1875
    ]
   },
   "source": "dicc_tiempos = []\n\nfor row in df_viajes.iterrows():\n    inicio = int(row[1]['start_id'])\n    fin = int(row[1]['end_id'])\n    promedio = row[1]['duracion_prom']\n\n    dicc = {\n        \"inicio\":inicio,\n        \"fin\": fin,\n        \"promedio\":promedio\n        }\n    \n    dicc_tiempos.append(dicc)\n\ntiempos.insert_many(dicc_tiempos)",
   "execution_count": 13,
   "outputs": [
    {
     "data": {
      "text/plain": "<pymongo.results.InsertManyResult at 0x1c5a6703288>"
     },
     "execution_count": 22,
     "metadata": {},
     "output_type": "execute_result"
    }
   ]
  },
  {
   "cell_type": "code",
   "metadata": {
    "cell_id": "557f929c3d6d45b8a1fa77583c5812f1",
    "tags": [],
    "deepnote_cell_type": "code",
    "deepnote_cell_height": 1254
   },
   "source": "def viaje(usuario, partida, tiempo, ruta=None):\n    \n    # verifica que exista el usuario y tenga más de 2 elementos\n    try:\n        atributos = mydb['usuarios'].find({'nombre':usuario})[0]\n    except:\n        return f'El usuario no existe'\n    \n    # coordenadas del punto de partida\n    if type(partida) == list:\n        if len(partida) == 2:\n            coordenadas = partida\n        else:\n            return f'Introduce correctamente el punto de partida'\n    \n    # el punto de partida es un lugar guardado por el usuario\n    elif type(partida) == str:\n        try:\n            coordenadas = atributos['ubicaciones'][partida]['geometry']['coordinates']\n        except:\n            return f'Este usuario no tiene el lugar guardado'\n    \n    # buscamos la estación más cercana al punto de partida\n    try:\n        posibles = mydb.Estaciones.find({\"loc\": SON([(\"$near\", coordenadas), (\"$maxDistance\", 0.01)])})\n        closest = posibles[0]\n    except:\n        return f'Las estaciones están muy lejos de tí'\n    \n    # verificamos si el usuario prefiere pasar por ciertas estaciones\n    tiempo_restante = tiempo\n    coord_actual = closest['loc']\n    est_nombre = closest['estacion_nombre']\n    id_actual = closest['estacion_id']\n    estaciones_resultado = {id_actual:[coord_actual, est_nombre]}\n    \n    if ruta == None:\n        while tiempo_restante > 0:\n            new_closest = mydb.Estaciones.find({\"loc\": SON([(\"$near\", coord_actual),\n                                                            (\"$maxDistance\", 0.5)])})\n\n            for i in new_closest:\n                if i['estacion_id'] in estaciones_resultado.keys():\n                    continue\n                else:\n                    new_closest = i\n                    break\n\n            coord_actual = new_closest['loc']\n            new_closest_id = new_closest['estacion_id']\n            new_est_nombre = new_closest['estacion_nombre']\n            tiempo_tomado = mydb.Tiempos.find({'inicio':id_actual, 'fin':new_closest_id})[0]['promedio']\n            print(f'Toma {np.round(tiempo_tomado, 1)} segundos ir de {estaciones_resultado[id_actual][1]} a {new_est_nombre}')\n            id_actual = new_closest_id\n            estaciones_resultado[id_actual] = [coord_actual, new_est_nombre]\n            tiempo_restante -= float(tiempo_tomado)\n    \n    trayectoria_x = []\n    trayectoria_y = []\n    for key in estaciones_resultado:\n        trayectoria_x.append(estaciones_resultado[key][0][0])\n        trayectoria_y.append(estaciones_resultado[key][0][1])\n    fig = px.scatter(df_estacion, x='lat', y='long')        \n    fig.add_trace(go.Scatter(x=trayectoria_x, y=trayectoria_y))\n    fig.update_layout(template='plotly_dark', width=600)\n    fig.show()\n    return estaciones_resultado",
   "execution_count": 14,
   "outputs": []
  },
  {
   "cell_type": "code",
   "metadata": {
    "cell_id": "9671f676acae4214a16558108c1e4869",
    "tags": [],
    "deepnote_cell_type": "code",
    "deepnote_cell_height": 118.1875,
    "deepnote_output_heights": [
     21.1875
    ]
   },
   "source": "viaje('Fernando Santa Rita', [40.689, -74], 10000)",
   "execution_count": 15,
   "outputs": [
    {
     "data": {
      "text/plain": "'El usuario no existe'"
     },
     "execution_count": 24,
     "metadata": {},
     "output_type": "execute_result"
    }
   ]
  },
  {
   "cell_type": "code",
   "metadata": {
    "cell_id": "07dd3953753e4a0b8015b50b15e466d5",
    "tags": [],
    "deepnote_cell_type": "code",
    "deepnote_cell_height": 118.1875,
    "deepnote_output_heights": [
     21.1875
    ]
   },
   "source": "viaje('Guillermo Urbano', 'escuela', 10000)",
   "execution_count": 16,
   "outputs": [
    {
     "data": {
      "text/plain": "'El usuario no existe'"
     },
     "execution_count": 25,
     "metadata": {},
     "output_type": "execute_result"
    }
   ]
  },
  {
   "cell_type": "markdown",
   "source": "# Actividad 4 \n\nEl usuario debe poder dar la opción de que su viaje sea redondo (mismo punto de partida y salida). En este caso, solo se debe tomar en cuenta los datos que pasan por otras estaciones, a menos que el tiempo sea muy corto.",
   "metadata": {
    "cell_id": "00017-cee1fd9f-fb8e-4abf-99eb-373908deaa89",
    "deepnote_cell_type": "markdown",
    "deepnote_cell_height": 142.796875
   }
  },
  {
   "cell_type": "code",
   "metadata": {
    "cell_id": "00024-e3eb3645-77d8-410d-add4-425b2c168521",
    "deepnote_cell_type": "code",
    "deepnote_cell_height": 280.1875,
    "deepnote_output_heights": [
     21.1875
    ]
   },
   "source": "viajes_lista=[]\ndf_viajes=pd.read_csv('./Datos/datos_limpios/datos_viajes.csv').drop(columns='Unnamed: 0').rename(columns={'start station id':'start_id','end station id':'end_id','tripduration':'duracion_prom'})\n\nmydb.drop_collection('viajes')\nviajes=mydb.create_collection('viajes')\n\nfor _,row in df_viajes.iterrows():\n  viajes_lista.append({'start_id':row['start_id'],'end_id':row['end_id'],'duracion_prom':row['duracion_prom']})\n\nviajes.insert_many(viajes_lista)",
   "execution_count": 61,
   "outputs": [
    {
     "data": {
      "text/plain": "<pymongo.results.InsertManyResult at 0x29489ddca48>"
     },
     "execution_count": 61,
     "metadata": {},
     "output_type": "execute_result"
    }
   ]
  },
  {
   "cell_type": "markdown",
   "source": "Encontramos la lista de paseos redondos que salen de las cinco estaciones iniciales más cercanas al punto de partida. ",
   "metadata": {
    "cell_id": "00025-08667462-80d2-4a98-9be1-66e71279f048",
    "deepnote_cell_type": "markdown",
    "deepnote_cell_height": 52.390625
   }
  },
  {
   "cell_type": "code",
   "metadata": {
    "cell_id": "00026-95a2c3bc-edd4-4886-8be4-9d7f4c67cc3b",
    "deepnote_cell_type": "code",
    "deepnote_cell_height": 112
   },
   "source": "df1=u1.encontrar_paseo('casa')",
   "execution_count": 63,
   "outputs": [
    {
     "name": "stdout",
     "output_type": "stream",
     "text": "[401, 311, 312, 410, 473]\n"
    }
   ]
  },
  {
   "cell_type": "code",
   "metadata": {
    "cell_id": "00027-122ca472-4fe2-4945-b282-2b4999e8da4d",
    "deepnote_cell_type": "code",
    "deepnote_cell_height": 274,
    "deepnote_output_heights": [
     177
    ]
   },
   "source": "df1",
   "execution_count": 131,
   "outputs": [
    {
     "data": {
      "text/html": "<div>\n<style scoped>\n    .dataframe tbody tr th:only-of-type {\n        vertical-align: middle;\n    }\n\n    .dataframe tbody tr th {\n        vertical-align: top;\n    }\n\n    .dataframe thead th {\n        text-align: right;\n    }\n</style>\n<table border=\"1\" class=\"dataframe\">\n  <thead>\n    <tr style=\"text-align: right;\">\n      <th></th>\n      <th>id_inicial</th>\n      <th>id_intermedio</th>\n      <th>duracion_redondo</th>\n    </tr>\n  </thead>\n  <tbody>\n    <tr>\n      <th>33</th>\n      <td>311</td>\n      <td>502.0</td>\n      <td>554.067117</td>\n    </tr>\n    <tr>\n      <th>30</th>\n      <td>311</td>\n      <td>356.0</td>\n      <td>569.068049</td>\n    </tr>\n    <tr>\n      <th>59</th>\n      <td>410</td>\n      <td>317.0</td>\n      <td>631.294992</td>\n    </tr>\n    <tr>\n      <th>53</th>\n      <td>410</td>\n      <td>150.0</td>\n      <td>639.230876</td>\n    </tr>\n    <tr>\n      <th>28</th>\n      <td>311</td>\n      <td>340.0</td>\n      <td>646.567980</td>\n    </tr>\n  </tbody>\n</table>\n</div>",
      "text/plain": "    id_inicial  id_intermedio  duracion_redondo\n33         311          502.0        554.067117\n30         311          356.0        569.068049\n59         410          317.0        631.294992\n53         410          150.0        639.230876\n28         311          340.0        646.567980"
     },
     "execution_count": 131,
     "metadata": {},
     "output_type": "execute_result"
    }
   ]
  },
  {
   "cell_type": "markdown",
   "source": "## Gráfica de viajes redondos",
   "metadata": {
    "cell_id": "00028-202aba29-985c-4a82-9635-96c2b53b0cf8",
    "deepnote_cell_type": "markdown",
    "deepnote_cell_height": 70
   }
  },
  {
   "cell_type": "code",
   "metadata": {
    "cell_id": "00029-c68ba5a7-874a-4e6e-8e41-35671bd0224e",
    "owner_user_id": "0c4dcfb5-18e5-4741-8d58-1d382d2f5d7d",
    "deepnote_cell_type": "code",
    "deepnote_cell_height": 334.1875,
    "deepnote_output_heights": [
     21.1875
    ]
   },
   "source": "x_inicial=[]\ny_inicial=[]\nfor id1 in df1.id_inicial.unique():\n  x_inicial.append(df_estacion[df_estacion.id_estacion==id1].lat.iloc[0])\n  y_inicial.append(df_estacion[df_estacion.id_estacion==id1].long.iloc[0])\ny_inicial\n\nx_intermedio=[]\ny_intermedio=[]\nfor id1 in df1.id_intermedio.unique():\n  x_intermedio.append(df_estacion[df_estacion.id_estacion==id1].lat.iloc[0])\n  y_intermedio.append(df_estacion[df_estacion.id_estacion==id1].long.iloc[0])\ny_intermedio",
   "execution_count": 102,
   "outputs": [
    {
     "data": {
      "text/plain": "[-73.981346, -73.98261206, -73.98185424, -73.98085795, -73.98776323]"
     },
     "execution_count": 102,
     "metadata": {},
     "output_type": "execute_result"
    }
   ]
  },
  {
   "cell_type": "code",
   "metadata": {
    "cell_id": "00022-dd1282c0-f70f-4378-84d0-e23adb7e8b4b",
    "deepnote_cell_type": "code",
    "deepnote_cell_height": 246
   },
   "source": "import seaborn as sns\nimport matplotlib.pyplot as plt\nplt.figure(figsize=(10,8))\nx_partida,y_partida=u1.diccionario['ubicaciones']['casa']['geometry']['coordinates']\nplt.scatter(x=df_estacion.lat, y=df_estacion.long,s=20,label='Estaciones')        \nplt.scatter(x=x_inicial, y=y_inicial,s=150,label='Estaciones iniciales',marker='*')        \nplt.scatter(x=x_intermedio, y=y_intermedio,s=150,label='Estaciones intermedias',marker='*')        \nplt.scatter(x=x_partida, y=y_partida,s=200,label='Punto partida')   \nplt.title('Viajes Redondos con tiempo menor a 1000',fontsize=20)     \n# fig.add_trace(go.Scatter(x=trayectoria_x, y=trayectoria_y))\nplt.legend()",
   "execution_count": 130,
   "outputs": []
  },
  {
   "cell_type": "markdown",
   "source": "# Actividad 5 (Extra)\n\nSi el usuario busca una ruta específica que el sistema no tenga, la debe intentar armar de forma indirecta.",
   "metadata": {
    "cell_id": "00023-db65473f-9867-4d8c-8eca-547ab3ad236f",
    "deepnote_cell_type": "markdown",
    "deepnote_cell_height": 120.390625
   }
  },
  {
   "cell_type": "code",
   "metadata": {
    "cell_id": "00024-a1a6e052-e85f-453a-86e3-5697a8845dd5",
    "deepnote_cell_type": "code",
    "deepnote_cell_height": 66
   },
   "source": "",
   "execution_count": null,
   "outputs": []
  },
  {
   "cell_type": "markdown",
   "source": "# Actividad 6 (Extra, después)\n\nLos resultados deben tomar en cuenta la hora a la que se hace la consulta y la hora de los viajes registrados para dar sus resultados con mayor confianza.",
   "metadata": {
    "cell_id": "00025-6f2cba6f-442b-4a96-a473-17db18e0b936",
    "deepnote_cell_type": "markdown",
    "deepnote_cell_height": 142.796875
   }
  },
  {
   "cell_type": "markdown",
   "source": "## Queries ejemplo",
   "metadata": {
    "cell_id": "00026-d14c640b-3be2-4257-85ac-ed74ec93a06d",
    "deepnote_cell_type": "markdown",
    "deepnote_cell_height": 70
   }
  },
  {
   "cell_type": "code",
   "metadata": {
    "cell_id": "00027-7a21fb2f-7697-4e63-803b-9e0d23f1086d",
    "deepnote_cell_type": "code",
    "deepnote_cell_height": 308
   },
   "source": "import pprint\nfor doc in mydb.Estaciones.find({\"loc\": {\"$near\": [40.767272,-73.993929]}}).limit(3):\n  pprint.pprint(doc)",
   "execution_count": 77,
   "outputs": [
    {
     "name": "stdout",
     "output_type": "stream",
     "text": "{'_id': ObjectId('6272aa72ddf435c41bd1407a'),\n 'estacion_id': 72,\n 'loc': [40.76727216, -73.99392888]}\n{'_id': ObjectId('6272aa72ddf435c41bd14179'),\n 'estacion_id': 480,\n 'loc': [40.76669671, -73.99061728]}\n{'_id': ObjectId('6272aa72ddf435c41bd14187'),\n 'estacion_id': 495,\n 'loc': [40.76269882, -73.99301222]}\n"
    }
   ]
  },
  {
   "cell_type": "code",
   "metadata": {
    "cell_id": "00028-7eb7536a-9c92-4523-8ab2-c287627c7307",
    "deepnote_cell_type": "code",
    "deepnote_cell_height": 326
   },
   "source": "from bson.son import SON\nquery = {\"loc\": SON([(\"$near\", [3, 6]), (\"$maxDistance\", 100)])}\nfor doc in mydb.Estaciones.find(query).limit(3):\n  pprint.pprint(doc)",
   "execution_count": 84,
   "outputs": [
    {
     "name": "stdout",
     "output_type": "stream",
     "text": "{'_id': ObjectId('6272aa72ddf435c41bd14150'),\n 'estacion_id': 437,\n 'loc': [40.6809833854, -73.9500479759]}\n{'_id': ObjectId('6272aa72ddf435c41bd1414f'),\n 'estacion_id': 436,\n 'loc': [40.68216564, -73.95399026]}\n{'_id': ObjectId('6272aa72ddf435c41bd1412b'),\n 'estacion_id': 396,\n 'loc': [40.680342423, -73.9557689392]}\n"
    }
   ]
  },
  {
   "cell_type": "markdown",
   "source": "<a style='text-decoration:none;line-height:16px;display:flex;color:#5B5B62;padding:10px;justify-content:end;' href='https://deepnote.com?utm_source=created-in-deepnote-cell&projectId=9aa4e14a-adbe-4d9d-8b09-68340723a69a' target=\"_blank\">\n<img alt='Created in deepnote.com' style='display:inline;max-height:16px;margin:0px;margin-right:7.5px;' src='data:image/svg+xml;base64,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' > </img>\nCreated in <span style='font-weight:600;margin-left:4px;'>Deepnote</span></a>",
   "metadata": {
    "tags": [],
    "created_in_deepnote_cell": true,
    "deepnote_cell_type": "markdown"
   }
  }
 ],
 "nbformat": 4,
 "nbformat_minor": 2,
 "metadata": {
  "deepnote": {},
  "deepnote_execution_queue": [],
  "deepnote_notebook_id": "8f4e62fd-48f7-414e-ae55-4ca6a9be4c03",
  "interpreter": {
   "hash": "684b1123683431d89d3bfe9a89cc763215f4b8cd94b4aba1fb40ad45ff7c8b41"
  },
  "kernelspec": {
   "display_name": "Python 3.7.9 64-bit",
   "language": "python",
   "name": "python3"
  },
  "language_info": {
   "codemirror_mode": {
    "name": "ipython",
    "version": 3
   },
   "file_extension": ".py",
   "mimetype": "text/x-python",
   "name": "python",
   "nbconvert_exporter": "python",
   "pygments_lexer": "ipython3",
   "version": "3.7.9"
  },
  "orig_nbformat": 4
 }
}