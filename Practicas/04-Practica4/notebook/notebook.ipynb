{
 "cells": [
  {
   "cell_type": "markdown",
   "source": "# Practica 4 - Orientada a grafos\n## Sistema de recomendaciones\n\nDescargar los datos:\nhttp://www.datos.economia.gob.mx/NormatividadMercantil/PROFECO_2015_vEspecial.csv\nCrear una base de datos de tipo grafo con los datos diseñada para\nuna aplicación que permita:\n\n- Dado un estado y un producto, buscar lugares donde pueda encontrarlo.\n\n- Dado un estado y una tienda, verificar si tiene algun incumplimiento con un producto.\n\n- Dado un estado y un producto, buscar alternativas sin incumplimiento de ese producto o categoría\n\nAdemás, su aplicación deben ser capaz de:\n- Llevar un registro de las compras y lugares que ha hecho cada usuario.\n\n- Recomendar a un usuario una tienda en done pueda encontrar en un solo lugar, lo que compra en diferentes tiendas.\n\n- Encontrar los estados con mayor y menor incumplimiento relativo al número de tiendas que tiene.\n\n- Recomendar productos a un usuario según lo que otros usuarios han comprado. Es decir, Dado un usuario y un producto, obtener todos los productos de esa misma categoría que han comprado otros usuarios que también han comprado ese mismo producto.",
   "metadata": {
    "tags": [],
    "cell_id": "a32bc025-2063-49cd-8b93-aa316e8a1b73",
    "deepnote_cell_type": "markdown",
    "deepnote_cell_height": 493.53125
   }
  },
  {
   "cell_type": "code",
   "source": "# librerías\nimport random\nimport pandas as pd\n\nfrom neo4j import GraphDatabase\nfrom tqdm import tqdm_notebook",
   "metadata": {
    "cell_id": "b3a0d3675bc04110aeac72b481371252",
    "tags": [],
    "owner_user_id": "e0c6afe4-99d0-40b0-b8eb-7b5ca2d084e6",
    "deepnote_cell_type": "code",
    "deepnote_cell_height": 155.953125
   },
   "outputs": [],
   "execution_count": null
  },
  {
   "cell_type": "code",
   "source": "profeco_df = pd.read_csv('PROFECO_2015_vEspecial.csv', encoding='latin-1')\n#profeco_df.sample(3)\n\n# Preprocesamiento: solución al problema de ingresar datos a Neo4j\nprofeco_df['RAZON SOCIAL VISITADA'] = profeco_df['RAZON SOCIAL VISITADA'].str.replace('\"','').str.replace(r'\\s+', ' ', regex=True).str.lower().str.strip()\nprofeco_df['INCUMPLIMIENTO'] = profeco_df['INCUMPLIMIENTO'].str.replace('\"','').str.replace(r'\\s+', ' ', regex=True).str.lower().str.strip()\nprofeco_df['TIPO DE PRODUCTO'] = profeco_df['TIPO DE PRODUCTO'].str.replace('\"','').str.replace(r'\\s+', ' ', regex=True).str.lower().str.strip()\nprofeco_df['DESCRIPCION DEL PRODUCTO'] = profeco_df['DESCRIPCION DEL PRODUCTO'].str.replace('\"','').str.replace(r'\\s+', ' ', regex=True).str.lower().str.strip()\nprofeco_df['MUNICIPIO'] = profeco_df['MUNICIPIO'].str.replace('\"','').str.replace(r'\\s+', ' ', regex=True).str.lower().str.strip()\nprofeco_df['ENTIDAD'] = profeco_df['ENTIDAD'].str.replace('\"','').str.replace(r'\\s+', ' ', regex=True).str.lower().str.strip()\n",
   "metadata": {
    "cell_id": "d829d81eda4d4934a2642a100a315e33",
    "tags": [],
    "deepnote_cell_type": "code",
    "deepnote_cell_height": 245.953125
   },
   "outputs": [],
   "execution_count": null
  },
  {
   "cell_type": "markdown",
   "source": "De acuerdo al modelado de datos, se tienen 4 tipos de nodos distintos:\n\n* Productos\n\n* Tiendas\n\n* Municipios\n\n* Estados\n\nCon esto en mente, podemos crear las relaciones para los 4 tipos de nodos distintos.",
   "metadata": {
    "cell_id": "b0252457de90490785f9212944b87050",
    "tags": [],
    "deepnote_cell_type": "markdown",
    "deepnote_cell_height": 201.234375
   },
   "outputs": [],
   "execution_count": null
  },
  {
   "cell_type": "markdown",
   "source": "## Diseño del modelo de la aplicación:",
   "metadata": {
    "cell_id": "915f732ebb0e40a2a0bf8e181787e171",
    "tags": [],
    "deepnote_cell_type": "markdown",
    "deepnote_cell_height": 69.953125
   }
  },
  {
   "cell_type": "code",
   "source": "# conexión con la base de datos\ndata_base_connection = GraphDatabase.driver(uri=\"bolt://localhost:7687\",\nauth=(\"neo4j\", \"1234\"))\nsession = data_base_connection.session()\n\n# valores del DataFrame como listas de listas\nprofeco_lista = profeco_df.values.tolist()\n\n# construcción de lista de intrucciones para Neo4j\ninstrucciones_neo4j = []\n\nfor transaccion in profeco_lista[:]:\n    instruccion=f'''\n    MERGE (e:Estado {{nombre_estado:\"{transaccion[10]}\"}})\n    MERGE (tp:TipoProcuto {{tipo: \"{transaccion[5]}\"}})\n    MERGE (t:Tienda {{razon_social:\"{transaccion[7]}\"}})\n    MERGE (m:Municipio {{nombre_municipio:\"{transaccion[9]}\"}})\n    MERGE (p:Producto {{nombre_producto:\"{transaccion[6]}\", estado:e.nombre_estado,\n    municipio:m.nombre_municipio}})\n    MERGE (p)-[et:en_tienda {{incumplimiento:\"{transaccion[11]}\"}}]->(t)\n    MERGE (t)-[:en_municipio]->(m)\n    MERGE (m)-[:en_estado]->(e)\n    MERGE (p)-[:es_de_tipo]->(tp)\n    '''.replace('\\n',' ')\n\n    instrucciones_neo4j.append(instruccion)\n\n# ejecutar instrucciones de instrucciones_neo4j\nfor i in notebook.tqdm(instrucciones_neo4j):\n    session.run(i)",
   "metadata": {
    "cell_id": "7d174c28e77f489f9bd8fd9cd1e2816b",
    "tags": [],
    "owner_user_id": "b7f90450-0770-40af-820a-2f5d5913daed",
    "deepnote_cell_type": "code",
    "deepnote_cell_height": 587.953125
   },
   "outputs": [],
   "execution_count": null
  },
  {
   "cell_type": "markdown",
   "source": "## Consulta 1\nDado un estado y un producto, buscar lugares donde pueda encontrarlo.",
   "metadata": {
    "cell_id": "ca19a2f6e5a1407c9fa89eedea34a448",
    "tags": [],
    "deepnote_cell_type": "markdown",
    "deepnote_cell_height": 108.328125
   }
  },
  {
   "cell_type": "code",
   "metadata": {
    "cell_id": "4d5b6ba27fb242ae8296773ca91387c5",
    "tags": [],
    "deepnote_cell_type": "code",
    "deepnote_cell_height": 353.953125
   },
   "source": "# code here...\n\ndef estado_producto(estado,producto):\n    '''\n    Regresa la tienda y municipio que tiene ese producto\n    '''\n    query=f'''\nMATCH(m:Municipio)\nMATCH(e:Estado {{nombre_estado:\"{estado}\"}})\nMATCH(t:Tienda)\nMATCH(p:Producto {{nombre_producto:\"{producto}\",estado:\"{estado}\",municipio:m.nombre_municipio}})\nMATCH (p)-[:en_tienda]->(t)\nMATCH (m)-[:en_estado]-> (e)\nMATCH (t)-[:en_municipio]->(m)\nRETURN t,m,e'''\n    q_res=session.run(query)\n    return q_res.data()",
   "execution_count": null,
   "outputs": []
  },
  {
   "cell_type": "code",
   "metadata": {
    "cell_id": "b1a3598eeb944961bee1bf1eb7e256df",
    "tags": [],
    "deepnote_cell_type": "code",
    "deepnote_cell_height": 101.953125
   },
   "source": "estado='baja california'\nproducto='productos con informacion comercial'\nestado_producto(estado,producto)",
   "execution_count": null,
   "outputs": []
  },
  {
   "cell_type": "markdown",
   "source": "## Consulta 2\nDado un estado y una tienda, verificar si tiene algun incumplimiento con un producto.",
   "metadata": {
    "cell_id": "4893a34211e249ae909e683474be8cd1",
    "tags": [],
    "deepnote_cell_type": "markdown",
    "deepnote_cell_height": 108.328125
   }
  },
  {
   "cell_type": "code",
   "metadata": {
    "cell_id": "7b23d93182774ffe88c40852d50a5556",
    "tags": [],
    "deepnote_cell_type": "code",
    "deepnote_cell_height": 317.953125
   },
   "source": "def lack_product(tienda, estado):\n\n    query = f\"\"\"\n    MATCH (m:Municipio)\n    MATCH (p:Producto {{estado:\"{estado}\", municipio:m.nombre_municipio}})\n    MATCH (e:Estado {{nombre_estado:\"{estado}\"}})\n    MATCH (t:Tienda {{razon_social:\"{tienda}\"}})\n    MATCH (p) -[et:en_tienda]-> (t)\n    WHERE NOT et.incumplimiento = \"no se detecto incumplimiento\"\n    MATCH (t) -[:en_municipio]-> (m)\n    MATCH (m) -[:en_estado]-> (e)\n    RETURN p\n    \"\"\".replace('\\n',' ')\n\n    return session.run(query).data()",
   "execution_count": null,
   "outputs": []
  },
  {
   "cell_type": "markdown",
   "source": "## Consulta 3\nDado un estado y un producto, buscar alternativas sin incumplimiento de ese producto o categoría.",
   "metadata": {
    "cell_id": "0059ec9d85fd49119c923ab7c4dc6e13",
    "tags": [],
    "deepnote_cell_type": "markdown",
    "deepnote_cell_height": 108.328125
   }
  },
  {
   "cell_type": "code",
   "metadata": {
    "cell_id": "fffd927777c942cda89c3eb6dd11dbd8",
    "tags": [],
    "deepnote_cell_type": "code",
    "deepnote_cell_height": 263.953125
   },
   "source": "def buscar_alternativas(estado, producto):\n    query = f'''\n    MATCH (p:Producto)-[et:en_tienda]->(t:Tienda)\n    MATCH (e:Estado)\n    MATCH (m:Municipio)\n    MATCH (t)-->(m)-->(e)\n    WHERE et.incumplimiento <> \"no se detecto incumplimiento\"\n        AND e.nombre_estado = \"{estado}\" AND p.nombre_producto = \"{producto}\"\n    RETURN p,t,m,e\n    '''\n    alternativa = session.run(query)\n    return alternativa.data()",
   "execution_count": null,
   "outputs": []
  },
  {
   "cell_type": "code",
   "metadata": {
    "cell_id": "aa4d909f38bd49b68fef23e706d0e5da",
    "tags": [],
    "deepnote_cell_type": "code",
    "deepnote_cell_height": 137.953125
   },
   "source": "nombre_producto = 'cajacon reproductor de disco de video digital dvd mrca philips mod dvp2800'\nalternativas = buscar_alternativas('mexico', nombre_producto)\nprint('--Alternativas de lugares donde se puede encontrar sin incumplimiento el producto--')\nfor i, alternativa in enumerate(alternativas):\n    print(f\"Alternativa {i+1}: {alternativa['m']['nombre_municipio']}, {alternativa['t']['razon_social']}\")",
   "execution_count": null,
   "outputs": []
  },
  {
   "cell_type": "markdown",
   "source": "## Funcionalidad 1 \nLlevar un registro de las compras y lugares que ha hecho cada usuario.",
   "metadata": {
    "cell_id": "20092eab6b2b4007bf80cad4ad329ffc",
    "tags": [],
    "deepnote_to_be_reexecuted": false,
    "source_hash": "2c831c4e",
    "execution_start": 1652966025892,
    "execution_millis": 9,
    "deepnote_cell_type": "markdown",
    "deepnote_cell_height": 108.328125
   }
  },
  {
   "cell_type": "code",
   "metadata": {
    "cell_id": "499cb870e2c74d299f9d71ec848135b5",
    "tags": [],
    "deepnote_cell_type": "code",
    "deepnote_cell_height": 353.953125
   },
   "source": "# code here...\n\ndef registrar_compra(user,curp,tienda,producto,estado,municipio,año,mes,dia):\n  q_compra_usuario=f'''\n  MERGE (p: Producto {{nombre_producto:\"{producto}\",municipio:\"{municipio}\",estado:\"{estado}\"}})\n  MERGE (t: Tienda {{razon_social:\"{tienda}\"}})\n  MERGE (m: Municipio {{nombre_municipio:\"{municipio}\"}})\n  MERGE (p)-[:en_tienda]->(t)\n  MERGE (t)-[:en_municipio]->(m)\n  MERGE (u: Usuario {{CURP:\"{curp}\",nombre:\"{user}\"}})\n  MERGE (u)-[cp:compro_producto {{hora:date({{year: {año}, month: {mes}, day: {dia}}})}}]->(p)\n  RETURN u,p,t,m,cp.hora\n  '''\n  print(f'User: {user}\\nProducto: {producto}\\nMunicipio: {municipio}\\nfecha: {dia}/{mes}/{año}\\n----------------------------------------')\n  return session.run(q_compra_usuario).data()\n\n",
   "execution_count": null,
   "outputs": []
  },
  {
   "cell_type": "markdown",
   "source": "#### Hacemos registros de datos existentes con un usuario K. Reeves",
   "metadata": {
    "cell_id": "74c02c2514b843238a41858f21eac23d",
    "tags": [],
    "deepnote_cell_type": "markdown",
    "deepnote_cell_height": 53.953125
   }
  },
  {
   "cell_type": "code",
   "metadata": {
    "cell_id": "86ece4b44e0b4850902007c2eba5962f",
    "tags": [],
    "deepnote_cell_type": "code",
    "deepnote_cell_height": 281.953125
   },
   "source": "user='K. Reeves'\ncurp='420'\nfor i in range(5):\n  rand=random.randint(0,len(profeco_df))\n  tienda=prod=profeco_df['RAZON SOCIAL VISITADA'].iloc[rand]\n  municipio=profeco_df['MUNICIPIO'].iloc[rand]\n  estado=profeco_df['ENTIDAD'].iloc[rand]\n  producto=profeco_df['DESCRIPCION DEL PRODUCTO'].iloc[rand]\n  dia=random.randint(1,28)\n  mes=random.randint(1,12)\n  año=random.randint(2019,2021)\n  registrar_compra(user,curp,tienda,producto,estado,municipio,año,mes,dia)\n",
   "execution_count": null,
   "outputs": []
  },
  {
   "cell_type": "markdown",
   "source": "#### Definimos una función para recuperar el historial de búsqueda de un usuario",
   "metadata": {
    "cell_id": "8ffc2a1c899548f08e0f5b82f38aad6d",
    "tags": [],
    "deepnote_cell_type": "markdown",
    "deepnote_cell_height": 53.953125
   }
  },
  {
   "cell_type": "code",
   "metadata": {
    "cell_id": "7a53d6d5dc714a79bdcab04a265cd40f",
    "tags": [],
    "owner_user_id": "0c4dcfb5-18e5-4741-8d58-1d382d2f5d7d",
    "deepnote_cell_type": "code",
    "deepnote_cell_height": 443.953125
   },
   "source": "def historial_usuario(user,curp):\n\n  q_historial=f'''\n  MATCH (u: Usuario {{CURP:\"{curp}\",nombre:\"{user}\"}})\n  MATCH (u)-[cp:compro_producto]->(p:Producto)\n  RETURN u,p,cp.hora\n  '''\n  l=session.run(q_historial).data()\n  \n  municipio=[]\n  producto=[]\n  estado=[]\n  hora=[]\n  for li in l:\n    municipio.append(li['p']['municipio'])\n    estado.append(li['p']['estado'])\n    producto.append(li['p']['nombre_producto'])\n    hora.append(li['cp.hora'])\n\n  return pd.DataFrame({'user':user,'estado':estado,'municipio':municipio,'hora':hora,'producto': producto})\n  \nhistorial_usuario(user,curp)",
   "execution_count": null,
   "outputs": []
  },
  {
   "cell_type": "markdown",
   "source": "## Funcionalidad 2 \nEncontrar los estados con mayor y menor incumplimiento\nrelativo al número de tiendas que tiene.",
   "metadata": {
    "cell_id": "8b6c86f48d62434d933475e9e86b5e10",
    "tags": [],
    "deepnote_cell_type": "markdown",
    "deepnote_cell_height": 108.328125
   }
  },
  {
   "cell_type": "code",
   "metadata": {
    "cell_id": "85c0b63d8f01418eb40efa2c8e30382e",
    "tags": [],
    "deepnote_cell_type": "code",
    "deepnote_cell_height": 1145.953125
   },
   "source": "def incumplimiento_por_tienda(estado):\n\n    query = f\"\"\"\n    MATCH (e:Estado {{nombre_estado:\"{estado}\"}})\n    MATCH (m:Municipio)\n    MATCH (p:Producto {{estado:\"{estado}\", municipio:m.nombre_municipio}})\n    MATCH (t:Tienda)\n    MATCH (t) -[:en_municipio]-> (m)\n    MATCH (m) -[:en_estado]-> (e)\n    MATCH (p) -[et:en_tienda]-> (t)\n    WHERE NOT et.incumplimiento = \"no se detecto incumplimiento\"\n    RETURN p, t\n    \"\"\"\n\n    return session.run(query)\n\ndef tiendas_por_estado(estado):\n\n    query = f\"\"\"\n    MATCH (e:Estado {{nombre_estado:\"{estado}\"}})\n    MATCH (m:Municipio)\n    MATCH (p:Producto {{estado:\"{estado}\", municipio:m.nombre_municipio}})\n    MATCH (t:Tienda)\n    MATCH (t) -[:en_municipio]-> (m)\n    MATCH (m) -[:en_estado]-> (e)\n    MATCH (p) -[et:en_tienda]-> (t)\n    RETURN count(t)\n    \"\"\"\n\n    return session.run(query).data()[0]['count(t)']\n\nfaltantes = {}\nfor estado in profeco_df.ENTIDAD.unique():\n\n    tiendas = set()\n    for dict in incumplimiento_por_tienda(f'{estado}').data():\n        tiendas.add(dict['t']['razon_social'])\n\n    faltantes[f'{estado}'] = len(tiendas) / tiendas_por_estado(f'{estado}')\n\n# creamos un DataFrame con los resultados obtenidos\nfaltas_por_estado = pd.Series(faltantes).sort_values(ascending=False)\n\n# graficamos los resultados\nfig = px.bar(faltas_por_estado)\nfig.update_traces(\n    marker_color='rgb(158,202,225)',\n    marker_line_color='rgb(8,48,107)',\n    marker_line_width=1.5,\n    opacity=0.6\n    )\nfig.update_layout(\n    title='Porcentaje de tiendas con artículos faltantes',\n    xaxis_title='Estado',\n    yaxis_title='Porcentaje',\n    showlegend=False,\n    width=900,\n    template='plotly_dark'\n)\nfig.write_image('Images/tiendas_faltantes.pdf')\nfig.show()",
   "execution_count": null,
   "outputs": []
  },
  {
   "cell_type": "markdown",
   "source": "<a style='text-decoration:none;line-height:16px;display:flex;color:#5B5B62;padding:10px;justify-content:end;' href='https://deepnote.com?utm_source=created-in-deepnote-cell&projectId=dd92f94b-7239-46d3-b575-e515589eae55' target=\"_blank\">\n<img alt='Created in deepnote.com' style='display:inline;max-height:16px;margin:0px;margin-right:7.5px;' src='data:image/svg+xml;base64,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' > </img>\nCreated in <span style='font-weight:600;margin-left:4px;'>Deepnote</span></a>",
   "metadata": {
    "tags": [],
    "created_in_deepnote_cell": true,
    "deepnote_cell_type": "markdown"
   }
  }
 ],
 "nbformat": 4,
 "nbformat_minor": 2,
 "metadata": {
  "orig_nbformat": 2,
  "deepnote": {},
  "deepnote_notebook_id": "c799f91a-b832-4cb1-8ea5-b4ca3ca32d2c",
  "deepnote_execution_queue": []
 }
}