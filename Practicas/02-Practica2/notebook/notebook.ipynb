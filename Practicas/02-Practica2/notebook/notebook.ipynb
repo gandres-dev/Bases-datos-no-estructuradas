{
 "cells": [
  {
   "cell_type": "markdown",
   "metadata": {
    "cell_id": "a8efa43c-dd58-4eb0-aa3b-b415bc06bcf1",
    "deepnote_cell_height": 522.75,
    "deepnote_cell_type": "markdown",
    "tags": []
   },
   "source": [
    "# Practica 2 - Familia de Columnas\n",
    "\n",
    "## Plataforma de libros\n",
    "\n",
    "**Integrantes**\n",
    "- Avitúa Varela Fernando\n",
    "- Santa Rita Vizuet Fernando\n",
    "- Andrés Urbano Guillermo \n",
    "---\n",
    "Desarrollar una plataforma de libros.\n",
    "\n",
    "- Debe incluir producto, cliente y calificación. Cada cliente debe tener información asociada (nombre, país, membresía, etc.)\n",
    "\n",
    "- Además, cada cliente debe poder elegir una categoría para cada uno de sus libros (fantasía, misterio, etc.). Todos deben participar como clientes.\n",
    "\n",
    "Como administradores, deben poder buscar cosas como:\n",
    "- La categoría preferida de un cliente dado.\n",
    "\n",
    "- Obtener los clientes que más disfrutaron un libro dado.\n",
    "\n",
    "- Los mejores libros de una categoría dada.\n"
   ]
  },
  {
   "cell_type": "markdown",
   "metadata": {
    "cell_id": "00001-bf0f34ba-6be2-471f-99b0-936d11fe374b",
    "deepnote_cell_height": 100.390625,
    "deepnote_cell_type": "markdown",
    "tags": []
   },
   "source": [
    "### Diseño del modelo para la Plataforma de libros\n",
    "\n",
    "Primero, importaremos el driver de Cassandra para poder conectarnos a la base de datos."
   ]
  },
  {
   "cell_type": "code",
   "execution_count": 1,
   "metadata": {
    "cell_id": "00002-8feccb2f-a4cb-42d6-ad2c-bf254e6d1679",
    "deepnote_cell_height": 225,
    "deepnote_cell_type": "code",
    "deepnote_to_be_reexecuted": false,
    "execution_millis": 5,
    "execution_start": 1650170070130,
    "source_hash": "3a867197",
    "tags": []
   },
   "outputs": [],
   "source": [
    "from cassandra.cluster import Cluster\n",
    "\n",
    "# Cambiar host si es necesario\n",
    "host = '172.17.0.2'\n",
    "keyspace = 'cheetah_books'\n",
    "\n",
    "# Conexion al servidor de Cassandra y al Keyspace \n",
    "cluster=Cluster([host],port=9042)\n",
    "session=cluster.connect(keyspace)"
   ]
  },
  {
   "cell_type": "markdown",
   "metadata": {
    "cell_id": "00003-8005fc59-60d9-46e1-852c-d204cd2b1a5a",
    "deepnote_cell_height": 74.78125,
    "deepnote_cell_type": "markdown",
    "deepnote_to_be_reexecuted": false,
    "execution_millis": 44,
    "execution_start": 1650159003987,
    "source_hash": "af51a596",
    "tags": []
   },
   "source": [
    "Una vez conectado, cremos nuestra primera tabla de clientes, dado que tenemos información del pais y membresia. Con esto, podremos consultar información de un usuario dado nombre.\n"
   ]
  },
  {
   "cell_type": "code",
   "execution_count": 2,
   "metadata": {
    "cell_id": "00004-2b54391a-01f6-49ae-8871-7164d94a0d62",
    "deepnote_cell_height": 210,
    "deepnote_cell_type": "code"
   },
   "outputs": [],
   "source": [
    "session.execute('DROP TABLE IF EXISTS clientes;')\n",
    "\n",
    "# Creación de tabla de clientes\n",
    "session.execute(\"\"\"CREATE TABLE clientes (\n",
    "\tnombre TEXT,\n",
    "\tpais TEXT,\n",
    "\tmembresia TEXT,\n",
    "\tPRIMARY KEY ((nombre), pais)\n",
    ");\"\"\");"
   ]
  },
  {
   "cell_type": "markdown",
   "metadata": {
    "cell_id": "00005-cde10cfb-781e-4552-a3cb-44f09f18d5ff",
    "deepnote_cell_height": 52.390625,
    "deepnote_cell_type": "markdown",
    "tags": []
   },
   "source": [
    "Se crea una función para leer un diccionario (cada entrada del csv) y producir una consulta de insert"
   ]
  },
  {
   "cell_type": "code",
   "execution_count": 3,
   "metadata": {
    "cell_id": "00006-a5ad3f70-9baa-4f00-a6ea-52c8e2613d20",
    "deepnote_cell_height": 696,
    "deepnote_cell_type": "code",
    "tags": []
   },
   "outputs": [],
   "source": [
    "def datos_a_insert_query(nombre_tabla, diccionario, columnas=False):\n",
    "    \"\"\"\n",
    "    Regresa un string con el query que agrega el registro indicado en diccionario, con las columnas especificadas\n",
    "\n",
    "    Parametros\n",
    "    ----------\n",
    "    nombre_tabla : str\n",
    "        El nombre de la tabla donde se va a insertar\n",
    "\n",
    "    diccionario: dict\n",
    "      Un diccionario que tiene la información del registro a ingresar, con el formato {nombre_columna_1:valor_a_insertar_1,...}\n",
    "\n",
    "    columnas: list(str)       \n",
    "      lista del nombre de las columnas a insertar. \n",
    "\n",
    "    Regresa\n",
    "    -------\n",
    "    salida : str\n",
    "        Query en cql usado para insertar los valores especificados\n",
    "    \"\"\"\n",
    "\n",
    "    if not columnas:\n",
    "        columnas = list(diccionario.keys())\n",
    "    values = []\n",
    "    keys = []\n",
    "\n",
    "    for k, v in diccionario.items():\n",
    "        if k in columnas:\n",
    "            keys.append(k)\n",
    "            if type(v) == int:\n",
    "                values.append(str(v))\n",
    "            elif type(v) == str:\n",
    "                # para evitar problemas con Ender's Game o alguno que tenga más espacios o diferente capitalización\n",
    "                v1 = v.replace(\"'\", '').lower().strip()\n",
    "                values.append(f\"'{v1}'\")\n",
    "    return f\"INSERT INTO {nombre_tabla} ({','.join(keys)}) VALUES ({','.join(values)});\""
   ]
  },
  {
   "cell_type": "markdown",
   "metadata": {
    "cell_id": "00007-9459ed8b-ba01-476d-a891-a89bc2b23a95",
    "deepnote_cell_height": 111.1875,
    "deepnote_cell_type": "markdown"
   },
   "source": [
    "Esta función nos ayudara a lo largo del notebook para ir ingresando los valores a nuestras tablas a partir del csv generado por el grupo.\n",
    "\n",
    "Leemos los datos de los clientes:"
   ]
  },
  {
   "cell_type": "code",
   "execution_count": 4,
   "metadata": {
    "cell_id": "00008-c3bfab05-6b59-43d5-8661-4fc0feaed55e",
    "deepnote_cell_height": 346,
    "deepnote_cell_type": "code",
    "deepnote_output_heights": [
     177
    ],
    "owner_user_id": "b7f90450-0770-40af-820a-2f5d5913daed"
   },
   "outputs": [
    {
     "data": {
      "text/html": [
       "<div>\n",
       "<style scoped>\n",
       "    .dataframe tbody tr th:only-of-type {\n",
       "        vertical-align: middle;\n",
       "    }\n",
       "\n",
       "    .dataframe tbody tr th {\n",
       "        vertical-align: top;\n",
       "    }\n",
       "\n",
       "    .dataframe thead th {\n",
       "        text-align: right;\n",
       "    }\n",
       "</style>\n",
       "<table border=\"1\" class=\"dataframe\">\n",
       "  <thead>\n",
       "    <tr style=\"text-align: right;\">\n",
       "      <th></th>\n",
       "      <th>nombre</th>\n",
       "      <th>pais</th>\n",
       "      <th>membresia</th>\n",
       "    </tr>\n",
       "  </thead>\n",
       "  <tbody>\n",
       "    <tr>\n",
       "      <th>0</th>\n",
       "      <td>Yeudiel</td>\n",
       "      <td>Mexico</td>\n",
       "      <td>Free</td>\n",
       "    </tr>\n",
       "    <tr>\n",
       "      <th>1</th>\n",
       "      <td>Eduardo</td>\n",
       "      <td>Mexico</td>\n",
       "      <td>Basica</td>\n",
       "    </tr>\n",
       "    <tr>\n",
       "      <th>2</th>\n",
       "      <td>FernandoA</td>\n",
       "      <td>Mexico</td>\n",
       "      <td>Basica</td>\n",
       "    </tr>\n",
       "    <tr>\n",
       "      <th>3</th>\n",
       "      <td>Edgar</td>\n",
       "      <td>Mexico</td>\n",
       "      <td>Free</td>\n",
       "    </tr>\n",
       "    <tr>\n",
       "      <th>4</th>\n",
       "      <td>Daniel</td>\n",
       "      <td>Mexico</td>\n",
       "      <td>Free</td>\n",
       "    </tr>\n",
       "  </tbody>\n",
       "</table>\n",
       "</div>"
      ],
      "text/plain": [
       "      nombre    pais membresia\n",
       "0    Yeudiel  Mexico      Free\n",
       "1    Eduardo  Mexico    Basica\n",
       "2  FernandoA  Mexico    Basica\n",
       "3      Edgar  Mexico      Free\n",
       "4     Daniel  Mexico      Free"
      ]
     },
     "execution_count": 4,
     "metadata": {},
     "output_type": "execute_result"
    }
   ],
   "source": [
    "import pandas as pd\n",
    "\n",
    "df = pd.read_csv('Clientes_plataforma - Hoja 1.csv', names=['nombre', 'pais', 'membresia'],\n",
    "               header=0)\n",
    "df.head()"
   ]
  },
  {
   "cell_type": "markdown",
   "metadata": {
    "cell_id": "00009-560499c2-e957-497e-9b5a-a94d3308ceef",
    "deepnote_cell_height": 52.390625,
    "deepnote_cell_type": "markdown"
   },
   "source": [
    "Una vez leido nuestro csv, ingresaremos los valores a nustra tabla a traves de nuestro función creada anteriormente:"
   ]
  },
  {
   "cell_type": "code",
   "execution_count": 5,
   "metadata": {
    "cell_id": "00010-188c2cc9-1fd9-422e-a88d-c18b436f0911",
    "deepnote_cell_height": 120,
    "deepnote_cell_type": "code"
   },
   "outputs": [],
   "source": [
    "for row in df.iterrows():\n",
    "    query = datos_a_insert_query('clientes',row[1].to_dict(),\n",
    "                                 columnas=['nombre', 'pais', 'membresia'])            \n",
    "    session.execute(query)"
   ]
  },
  {
   "cell_type": "markdown",
   "metadata": {
    "cell_id": "00011-37f5132c-67b4-49b9-9aaf-e386ce41db87",
    "deepnote_cell_height": 52.390625,
    "deepnote_cell_type": "markdown"
   },
   "source": [
    "Con esto podemos obtener la información de cualquier cliente dado en nuestro aplicación:"
   ]
  },
  {
   "cell_type": "code",
   "execution_count": 6,
   "metadata": {
    "cell_id": "00012-5032da33-4cfa-40df-ad29-64839249d5b3",
    "deepnote_cell_height": 226.1875,
    "deepnote_cell_type": "code",
    "deepnote_output_heights": [
     21.1875
    ]
   },
   "outputs": [
    {
     "data": {
      "text/plain": [
       "Row(nombre='hugo', pais='mexico', membresia='premium')"
      ]
     },
     "execution_count": 6,
     "metadata": {},
     "output_type": "execute_result"
    }
   ],
   "source": [
    "nombre_cliente = \"hugo\"\n",
    "query = f\"\"\"\n",
    "    SELECT * FROM clientes\n",
    "    WHERE nombre = '{nombre_cliente}';\n",
    "    \"\"\"\n",
    "response = session.execute(query)\n",
    "response.one()"
   ]
  },
  {
   "cell_type": "markdown",
   "metadata": {
    "cell_id": "00013-95cdbe7a-286f-4648-b64e-744a3c8cfd9a",
    "deepnote_cell_height": 52.390625,
    "deepnote_cell_type": "markdown"
   },
   "source": [
    "Ahora procederemos a leer la información de los libros:"
   ]
  },
  {
   "cell_type": "code",
   "execution_count": 7,
   "metadata": {
    "cell_id": "00014-317221f7-f0a1-4ee5-b537-803ccf6cda5d",
    "deepnote_cell_height": 310,
    "deepnote_cell_type": "code",
    "deepnote_output_heights": [
     177
    ]
   },
   "outputs": [
    {
     "data": {
      "text/html": [
       "<div>\n",
       "<style scoped>\n",
       "    .dataframe tbody tr th:only-of-type {\n",
       "        vertical-align: middle;\n",
       "    }\n",
       "\n",
       "    .dataframe tbody tr th {\n",
       "        vertical-align: top;\n",
       "    }\n",
       "\n",
       "    .dataframe thead th {\n",
       "        text-align: right;\n",
       "    }\n",
       "</style>\n",
       "<table border=\"1\" class=\"dataframe\">\n",
       "  <thead>\n",
       "    <tr style=\"text-align: right;\">\n",
       "      <th></th>\n",
       "      <th>categoria</th>\n",
       "      <th>usuario</th>\n",
       "      <th>libro</th>\n",
       "      <th>calificacion</th>\n",
       "    </tr>\n",
       "  </thead>\n",
       "  <tbody>\n",
       "    <tr>\n",
       "      <th>0</th>\n",
       "      <td>Fantasia</td>\n",
       "      <td>Yeudiel</td>\n",
       "      <td>Harry Potter</td>\n",
       "      <td>5</td>\n",
       "    </tr>\n",
       "    <tr>\n",
       "      <th>1</th>\n",
       "      <td>Suspenso</td>\n",
       "      <td>Eduardo</td>\n",
       "      <td>One Shot</td>\n",
       "      <td>5</td>\n",
       "    </tr>\n",
       "    <tr>\n",
       "      <th>2</th>\n",
       "      <td>Novela</td>\n",
       "      <td>FernandoA</td>\n",
       "      <td>On the road</td>\n",
       "      <td>5</td>\n",
       "    </tr>\n",
       "    <tr>\n",
       "      <th>3</th>\n",
       "      <td>Novela</td>\n",
       "      <td>Edgar</td>\n",
       "      <td>The Pillars of the Earth</td>\n",
       "      <td>4</td>\n",
       "    </tr>\n",
       "    <tr>\n",
       "      <th>4</th>\n",
       "      <td>Realismo mágico</td>\n",
       "      <td>Daniel</td>\n",
       "      <td>100 años de soledad</td>\n",
       "      <td>5</td>\n",
       "    </tr>\n",
       "  </tbody>\n",
       "</table>\n",
       "</div>"
      ],
      "text/plain": [
       "         categoria     usuario                     libro  calificacion\n",
       "0         Fantasia    Yeudiel               Harry Potter             5\n",
       "1         Suspenso     Eduardo                  One Shot             5\n",
       "2           Novela  FernandoA                On the road             5\n",
       "3          Novela        Edgar  The Pillars of the Earth             4\n",
       "4  Realismo mágico      Daniel      100 años de soledad              5"
      ]
     },
     "execution_count": 7,
     "metadata": {},
     "output_type": "execute_result"
    }
   ],
   "source": [
    "df=pd.read_csv('DatosBBDDE - Hoja 1.csv', names=['categoria', 'usuario', 'libro', 'calificacion'],\n",
    "               header=0)\n",
    "df.head()"
   ]
  },
  {
   "cell_type": "markdown",
   "metadata": {
    "cell_id": "00015-aad14f6c-405d-4817-a8c5-168e3a647b95",
    "deepnote_cell_height": 108.390625,
    "deepnote_cell_type": "markdown",
    "tags": []
   },
   "source": [
    "## Consulta 1 \n",
    "\n",
    "La categoría preferida de un cliente dado."
   ]
  },
  {
   "cell_type": "markdown",
   "metadata": {
    "cell_id": "00016-a7209373-f25f-4cbf-8e88-3285b9b4d12d",
    "deepnote_cell_height": 52.390625,
    "deepnote_cell_type": "markdown",
    "tags": []
   },
   "source": [
    "Primero, creamos la tabla `categorias_por_usuario` que necesitamos para esta consulta."
   ]
  },
  {
   "cell_type": "code",
   "execution_count": 8,
   "metadata": {
    "cell_id": "00017-90508998-170f-4518-b137-3f4835e5a590",
    "deepnote_cell_height": 262.1875,
    "deepnote_cell_type": "code",
    "deepnote_output_heights": [
     21.1875
    ],
    "tags": []
   },
   "outputs": [],
   "source": [
    "session.execute('DROP TABLE IF EXISTS categorias_por_usuario;')\n",
    "\n",
    "# tabla categories_by_user\n",
    "session.execute(\"\"\"CREATE TABLE categorias_por_usuario (\n",
    "                usuario text,\n",
    "                libro text,\n",
    "                categoria text,\n",
    "                calificacion float,\n",
    "                PRIMARY KEY((usuario, categoria), calificacion, libro))\"\"\");"
   ]
  },
  {
   "cell_type": "markdown",
   "metadata": {
    "cell_id": "00018-d5c30dc6-10c5-42d4-98ae-67923d575c44",
    "deepnote_cell_height": 52.390625,
    "deepnote_cell_type": "markdown",
    "tags": []
   },
   "source": [
    "Del conjunto de datos recolectado en clase (guardado como `df`, DataFrame en Pandas), los agregamos a la tabla anterior."
   ]
  },
  {
   "cell_type": "code",
   "execution_count": 9,
   "metadata": {
    "cell_id": "00019-287a27ff-1057-43e0-8652-7fd1b3731ac5",
    "deepnote_cell_height": 228,
    "deepnote_cell_type": "code",
    "tags": []
   },
   "outputs": [],
   "source": [
    "for i in df.iterrows():\n",
    "    session.execute(f\"\"\"INSERT INTO categorias_por_usuario (\n",
    "                    usuario,\n",
    "                    libro,\n",
    "                    categoria,\n",
    "                    calificacion)\n",
    "                    VALUES ('{str(i[1][1])}',\n",
    "                    '{str(i[1][2])}',\n",
    "                    '{str(i[1][0])}',\n",
    "                    {str(i[1][3])})\"\"\")"
   ]
  },
  {
   "cell_type": "markdown",
   "metadata": {
    "cell_id": "00020-eca0a7f1-3728-422a-8784-967b11d66c21",
    "deepnote_cell_height": 301.953125,
    "deepnote_cell_type": "markdown",
    "tags": []
   },
   "source": [
    "Antes de definir la función que realiza la consulta en la base de datos, debemos establecer los criterios para que una categoría sea la favorita de un usuario.\n",
    "\n",
    "**Criterios de asignación de la categoría favorita de un usuario**\n",
    "\n",
    "1. Decimos que una categoría se prefiere sobre otra si el promedio de calificación de los libros de dicha categoría es mayor que las demás.\n",
    "\n",
    "2. En caso de que haya promedios iguales entre dos categorías, entonces establecemos como criterio de desempate elegir la categoría con más libros calificados.\n",
    "\n",
    "3. Si existe un empate después de los dos filtros anteriores, entonces es no existe criterio para escoger una categoría u otra. Por tanto, permanece la categoría líder hasta el momento.\n",
    "\n",
    "Definimos entonces la función encargada de realizar la consulta sobre esta tabla. "
   ]
  },
  {
   "cell_type": "code",
   "execution_count": 10,
   "metadata": {
    "cell_id": "00021-1965e57d-604f-430f-9111-a2737510ad01",
    "deepnote_cell_height": 840,
    "deepnote_cell_type": "code",
    "tags": []
   },
   "outputs": [],
   "source": [
    "def obtener_categoria_preferida(usuario) -> str:\n",
    "    \"\"\"\n",
    "    Regresa la categoría que tiene mejor calificación en promedio para un cliente dado\n",
    "\n",
    "    Parametros\n",
    "    ----------\n",
    "    cliente : str\n",
    "        El cliente al que le buscaremos su categoría\n",
    "\n",
    "    Regresa\n",
    "    -------\n",
    "    salida : str\n",
    "        El nombre de la categoría favorita (en promedio)\n",
    "    \"\"\"\n",
    "    \n",
    "    # consulta en CQL\n",
    "    consulta = session.execute(f\"\"\"SELECT categoria, AVG(calificacion), COUNT(libro)\n",
    "                                FROM categorias_por_usuario\n",
    "                                WHERE usuario = '{usuario}'\n",
    "                                GROUP BY categoria\n",
    "                                ALLOW FILTERING\"\"\")\n",
    "    \n",
    "    # variable que nos indica la categoria con mayor promedio hasta el momento\n",
    "    avg_max = 0\n",
    "    \n",
    "    # categoria con mejor promedio\n",
    "    cat_max = 'No se obtuvieron resultados'\n",
    "    \n",
    "    # cantidad de libros de la categoría\n",
    "    count_max = 0\n",
    "    \n",
    "    # filtramos a la categoría preferida bajo los siguientes criterios\n",
    "    for i in consulta:\n",
    "\n",
    "        # criterio de asignación\n",
    "        if avg_max < i[1]:\n",
    "            cat_max, avg_max, count_max = i[0], i[1], i[2]\n",
    "            \n",
    "        # criterio de desempate\n",
    "        elif avg_max == i[1]:\n",
    "            if count_max < i[2]:\n",
    "                cat_max, avg_max, count_max = i[0], i[1], i[2]\n",
    "            \n",
    "    return f'La categoría preferida de {usuario} es {cat_max}'"
   ]
  },
  {
   "cell_type": "code",
   "execution_count": 11,
   "metadata": {
    "cell_id": "00022-3db39b68-3526-44a4-b1ec-d8e92cb0873c",
    "deepnote_cell_height": 118.1875,
    "deepnote_cell_type": "code",
    "deepnote_output_heights": [
     21.1875
    ]
   },
   "outputs": [
    {
     "data": {
      "text/plain": [
       "'La categoría preferida de Lucas es Cuento'"
      ]
     },
     "execution_count": 11,
     "metadata": {},
     "output_type": "execute_result"
    }
   ],
   "source": [
    "obtener_categoria_preferida('Lucas')"
   ]
  },
  {
   "cell_type": "markdown",
   "metadata": {
    "cell_id": "00023-e5072358-5ca9-48cd-9ae6-c21e0d4dd0d1",
    "deepnote_cell_height": 184.375,
    "deepnote_cell_type": "markdown",
    "tags": []
   },
   "source": [
    "**Prueba**\n",
    "```\n",
    "obtener_categoria_preferida('Lucas')\n",
    "```\n",
    "**Resultado**\n",
    "```\n",
    "'La categoría preferida de Lucas es Cuento'\n",
    "```"
   ]
  },
  {
   "cell_type": "markdown",
   "metadata": {
    "cell_id": "00024-2cb381a2-8c92-4923-83c0-7aaa9382e68b",
    "deepnote_cell_height": 108.390625,
    "deepnote_cell_type": "markdown",
    "tags": []
   },
   "source": [
    "## Consulta 2 \n",
    "\n",
    "Los clientes que más disfrutaron un libro dado."
   ]
  },
  {
   "cell_type": "markdown",
   "metadata": {
    "cell_id": "00025-4f295f05-46d7-481b-991d-760840f7585e",
    "deepnote_cell_height": 52.390625,
    "deepnote_cell_type": "markdown",
    "tags": []
   },
   "source": [
    "Se crea la tabla usada para los queries. Es necesario poner la calificación como llave de cluster para poder ordenar con ella"
   ]
  },
  {
   "cell_type": "code",
   "execution_count": 12,
   "metadata": {
    "cell_id": "00026-2ce0b471-933c-44d3-8808-fad885a9aa0b",
    "deepnote_cell_height": 210,
    "deepnote_cell_type": "code",
    "tags": []
   },
   "outputs": [],
   "source": [
    "session.execute('DROP TABLE IF EXISTS clientes_por_libro;')\n",
    "\n",
    "\n",
    "session.execute('''CREATE TABLE clientes_por_libro (\n",
    "libro text,\n",
    "usuario text,\n",
    "calificacion int,\n",
    "PRIMARY KEY ((Libro),calificacion,usuario)\n",
    ");''');"
   ]
  },
  {
   "cell_type": "markdown",
   "metadata": {
    "cell_id": "00027-4c5e97e1-3d98-46e2-8f0c-008341e6f057",
    "deepnote_cell_height": 52.390625,
    "deepnote_cell_type": "markdown",
    "tags": []
   },
   "source": [
    "Se hacen las inserciones"
   ]
  },
  {
   "cell_type": "code",
   "execution_count": 13,
   "metadata": {
    "cell_id": "00028-a07014bf-2de3-41e7-acd8-5a059897f5de",
    "deepnote_cell_height": 102,
    "deepnote_cell_type": "code",
    "tags": []
   },
   "outputs": [],
   "source": [
    "for row in df.iterrows():\n",
    "    q=datos_a_insert_query('clientes_por_libro',row[1].to_dict(),columnas=['usuario','calificacion','libro'])\n",
    "    session.execute(q)"
   ]
  },
  {
   "cell_type": "markdown",
   "metadata": {
    "cell_id": "00029-1fe678bd-7e02-422a-a673-1c87c8658e49",
    "deepnote_cell_height": 52.390625,
    "deepnote_cell_type": "markdown",
    "tags": []
   },
   "source": [
    "Se crea la consulta y se muestran los resultados "
   ]
  },
  {
   "cell_type": "code",
   "execution_count": 14,
   "metadata": {
    "cell_id": "00030-ed184ba8-9ba5-4501-ab6d-113615b40495",
    "deepnote_cell_height": 588,
    "deepnote_cell_type": "code"
   },
   "outputs": [],
   "source": [
    "def obtener_fanaticos(libro):\n",
    "    \"\"\"\n",
    "    Obtiene los clientes que más disfrutaron un libro dado\n",
    "\n",
    "    Parameters\n",
    "    ----------\n",
    "    book: Book\n",
    "        El libro\n",
    "    Returns\n",
    "    -------\n",
    "    clientes : list\n",
    "        Lista de clientes \n",
    "    \"\"\"\n",
    "    # Clientes que más disfrutaron un libro\n",
    "    q2=f'''\n",
    "    SELECT usuario,calificacion\n",
    "    FROM clientes_por_libro\n",
    "    WHERE libro='{libro}'\n",
    "    ORDER BY calificacion DESC LIMIT 5\n",
    "    '''\n",
    "    resQuery=session.execute(q2)\n",
    "    s=f\"Clientes que más disfrutaron el libro:\\n{libro}\"\n",
    "    print(s)\n",
    "    print('-'*len(s))\n",
    "    print(f\"{'Usuario':{len(s)-17}}| {'Calificacion':{14}}|\")\n",
    "    print('-'*len(s))\n",
    "    for ai in resQuery:\n",
    "        print(f'{ai.usuario:{len(s)-17}}| {ai.calificacion:14}|')\n",
    "\n",
    "    return resQuery"
   ]
  },
  {
   "cell_type": "markdown",
   "metadata": {
    "cell_id": "00031-ed076491-f16a-4940-a3cb-d4a7e254c18c",
    "deepnote_cell_height": 52.390625,
    "deepnote_cell_type": "markdown"
   },
   "source": [
    "Probamos ahora nuestra función:"
   ]
  },
  {
   "cell_type": "code",
   "execution_count": 15,
   "metadata": {
    "cell_id": "00032-91adff5b-ad0b-4483-812a-94dabca71154",
    "deepnote_cell_height": 231.046875,
    "deepnote_cell_type": "code",
    "owner_user_id": "e0c6afe4-99d0-40b0-b8eb-7b5ca2d084e6"
   },
   "outputs": [
    {
     "name": "stdout",
     "output_type": "stream",
     "text": [
      "Clientes que más disfrutaron el libro:\n",
      "siddharta\n",
      "------------------------------------------------\n",
      "Usuario                        | Calificacion  |\n",
      "------------------------------------------------\n",
      "fernandos                      |              5|\n",
      "fernandoa                      |              3|\n"
     ]
    }
   ],
   "source": [
    "obtener_fanaticos('siddharta');"
   ]
  },
  {
   "cell_type": "markdown",
   "metadata": {
    "cell_id": "00033-b52ee5c9-582c-4410-a6a1-aa25daf0c210",
    "deepnote_cell_height": 231.9375,
    "deepnote_cell_type": "markdown"
   },
   "source": [
    "**Resultado esperado**\n",
    "```\n",
    "Clientes que más disfrutaron el libro:\n",
    "siddharta\n",
    "------------------------------------------------\n",
    "Usuario                        | Calificacion  |\n",
    "------------------------------------------------\n",
    "fernando                       |              5|\n",
    "fernandoa                      |              3|\n",
    "```"
   ]
  },
  {
   "cell_type": "markdown",
   "metadata": {
    "cell_id": "00034-43bffe12-06c3-4bf6-bb12-b29765c1821e",
    "deepnote_cell_height": 70,
    "deepnote_cell_type": "markdown",
    "tags": []
   },
   "source": [
    "## Consulta 3  Los mejores libros de una categoría dada"
   ]
  },
  {
   "cell_type": "markdown",
   "metadata": {
    "cell_id": "00035-9a6b8d49-4c84-4def-ad55-0f1ad21a4193",
    "deepnote_cell_height": 52.390625,
    "deepnote_cell_type": "markdown",
    "tags": []
   },
   "source": [
    "Creación de la tabla `libros_por_categoria`"
   ]
  },
  {
   "cell_type": "code",
   "execution_count": 16,
   "metadata": {
    "cell_id": "00036-3f2d9a37-a25c-4de5-8f19-8247b838bc49",
    "deepnote_cell_height": 225,
    "deepnote_cell_type": "code",
    "deepnote_to_be_reexecuted": false,
    "execution_millis": 1,
    "execution_start": 1650172015659,
    "source_hash": "b623e53d",
    "tags": []
   },
   "outputs": [],
   "source": [
    "session.execute('DROP TABLE IF EXISTS libros_por_categoria;')\n",
    "\n",
    "session.execute('''CREATE TABLE libros_por_categoria (\n",
    "\tcategoria TEXT,\n",
    "\tusuario TEXT,\n",
    "\tlibro TEXT,\n",
    "\tcalificacion INT,\n",
    "\tPRIMARY KEY ((categoria), libro, usuario)\n",
    ");''');"
   ]
  },
  {
   "cell_type": "markdown",
   "metadata": {
    "cell_id": "00037-f1c20fbc-c5d6-404a-ac6e-87418a2bb410",
    "deepnote_cell_height": 52.390625,
    "deepnote_cell_type": "markdown",
    "tags": []
   },
   "source": [
    "Agreamos informacion a la tabla"
   ]
  },
  {
   "cell_type": "code",
   "execution_count": 17,
   "metadata": {
    "cell_id": "00038-4e5f46f2-da47-4be8-ae02-a53dd733916c",
    "deepnote_cell_height": 120,
    "deepnote_cell_type": "code",
    "tags": []
   },
   "outputs": [],
   "source": [
    "for row in df.iterrows():\n",
    "    query = datos_a_insert_query('libros_por_categoria',row[1].to_dict(),\n",
    "                                 columnas=['categoria', 'usuario','libro', 'calificacion'])            \n",
    "    session.execute(query)"
   ]
  },
  {
   "cell_type": "markdown",
   "metadata": {
    "cell_id": "00039-35c0e70a-861c-4f4e-9e54-13cfa336a94a",
    "deepnote_cell_height": 52.390625,
    "deepnote_cell_type": "markdown",
    "tags": []
   },
   "source": [
    "Realizamos la solución de la consulta:"
   ]
  },
  {
   "cell_type": "code",
   "execution_count": 18,
   "metadata": {
    "cell_id": "00040-05e3c72b-5e11-48bc-90da-9655136ceed1",
    "deepnote_cell_height": 498,
    "deepnote_cell_type": "code",
    "tags": []
   },
   "outputs": [],
   "source": [
    "def obtener_mejores_libros_categoria(categoria:str, top:int=5) -> list:\n",
    "    \"\"\"\n",
    "    Regresa los mejores libros (mayor promedio de calificación) de una categoría dada\n",
    "\n",
    "    Parametros\n",
    "    ----------\n",
    "    categoria : str\n",
    "        La categoría en la que buscaremos los mejores libros\n",
    "\n",
    "    top: int\n",
    "        El número de mejores libros a regresar. Regresa 5 por defecto\n",
    "\n",
    "    Regresa\n",
    "    -------\n",
    "    salida : list(str)\n",
    "        Una lista de los mejores top libros por la categoría\n",
    "    \"\"\"\n",
    "    query = f\"\"\"\n",
    "    SELECT libro, AVG(calificacion) as promedio FROM libros_por_categoria\n",
    "    WHERE categoria = '{categoria}'\n",
    "    GROUP BY libro;\n",
    "    \"\"\"\n",
    "    response = session.execute(query)\n",
    "    mejores_libros = sorted(response.current_rows, key=lambda record: record.promedio, reverse=True)[:top]        \n",
    "    return mejores_libros"
   ]
  },
  {
   "cell_type": "markdown",
   "metadata": {
    "cell_id": "00041-9122aee0-12fb-42eb-83c0-1ca8d7dc81e6",
    "deepnote_cell_height": 52.390625,
    "deepnote_cell_type": "markdown",
    "tags": []
   },
   "source": [
    "Probamos nuestra funcion para obtener los mejores libros dada una categoria:"
   ]
  },
  {
   "cell_type": "code",
   "execution_count": 19,
   "metadata": {
    "cell_id": "00042-5718613a-fceb-4447-b4fd-83d1770b8669",
    "deepnote_cell_height": 281.3125,
    "deepnote_cell_type": "code",
    "deepnote_to_be_reexecuted": false,
    "execution_millis": 0,
    "execution_start": 1650231432526,
    "source_hash": "3cf756ad",
    "tags": []
   },
   "outputs": [
    {
     "name": "stdout",
     "output_type": "stream",
     "text": [
      "******* Mejores libros *******\n",
      "1. - the masque of the red death (10)\n",
      "2. - the tell-tale heart (10)\n",
      "3. - the fall of the house of usher (8)\n",
      "4. - el tapiz amarillo (4)\n"
     ]
    }
   ],
   "source": [
    "top = 4\n",
    "mejores_libros = obtener_mejores_libros_categoria('cuento', top)\n",
    "\n",
    "print(f\"{' Mejores libros ':{'*'}{'^'}{30}}\")\n",
    "for i, libro in enumerate(mejores_libros):\n",
    "    print(f'{i+1}. - {libro.libro} ({libro.promedio})')"
   ]
  },
  {
   "cell_type": "markdown",
   "metadata": {
    "cell_id": "00043-c1aec760-eb54-4b43-b35f-c85825caf2bc",
    "deepnote_cell_height": 190.34375,
    "deepnote_cell_type": "markdown"
   },
   "source": [
    "**Resultado esperado**\n",
    "~~~\n",
    "******* Mejores libros *******\n",
    "1. - the masque of the red death (10)\n",
    "2. - the tell-tale heart (10)\n",
    "3. - the fall of the house of usher (8)\n",
    "4. - el tapiz amarillo (4)\n",
    "~~~"
   ]
  },
  {
   "cell_type": "markdown",
   "metadata": {
    "created_in_deepnote_cell": true,
    "deepnote_cell_type": "markdown",
    "tags": []
   },
   "source": [
    "<a style='text-decoration:none;line-height:16px;display:flex;color:#5B5B62;padding:10px;justify-content:end;' href='https://deepnote.com?utm_source=created-in-deepnote-cell&projectId=dd92f94b-7239-46d3-b575-e515589eae55' target=\"_blank\">\n",
    "<img alt='Created in deepnote.com' style='display:inline;max-height:16px;margin:0px;margin-right:7.5px;' src='data:image/svg+xml;base64,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' > </img>\n",
    "Created in <span style='font-weight:600;margin-left:4px;'>Deepnote</span></a>"
   ]
  }
 ],
 "metadata": {
  "deepnote": {
   "is_reactive": false
  },
  "deepnote_execution_queue": [],
  "deepnote_notebook_id": "9f22ae9f-1bd0-4192-966e-633280a5f309",
  "kernelspec": {
   "display_name": "Python 3",
   "language": "python",
   "name": "python3"
  },
  "language_info": {
   "codemirror_mode": {
    "name": "ipython",
    "version": 3
   },
   "file_extension": ".py",
   "mimetype": "text/x-python",
   "name": "python",
   "nbconvert_exporter": "python",
   "pygments_lexer": "ipython3",
   "version": "3.10.0"
  },
  "toc": {
   "base_numbering": 1,
   "nav_menu": {},
   "number_sections": true,
   "sideBar": true,
   "skip_h1_title": false,
   "title_cell": "Table of Contents",
   "title_sidebar": "Contents",
   "toc_cell": false,
   "toc_position": {},
   "toc_section_display": true,
   "toc_window_display": false
  }
 },
 "nbformat": 4,
 "nbformat_minor": 2
}
